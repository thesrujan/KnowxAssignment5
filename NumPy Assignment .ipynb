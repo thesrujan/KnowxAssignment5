{
 "cells": [
  {
   "cell_type": "code",
   "execution_count": 1,
   "id": "3b42e341",
   "metadata": {},
   "outputs": [
    {
     "name": "stdout",
     "output_type": "stream",
     "text": [
      "Empty Array:\n",
      "[[5.85135267e-312 5.85135267e-312]\n",
      " [5.85135267e-312 3.94476225e-103]]\n",
      "\n",
      "Full Array:\n",
      "[[29 29 29]\n",
      " [29 29 29]\n",
      " [29 29 29]]\n"
     ]
    }
   ],
   "source": [
    "#1\n",
    "import numpy as np\n",
    "empty_array = np.empty((2, 2))\n",
    "\n",
    "full_array = np.full((3, 3), 29)\n",
    "\n",
    "print(\"Empty Array:\")\n",
    "print(empty_array)\n",
    "\n",
    "print(\"\\nFull Array:\")\n",
    "print(full_array)"
   ]
  },
  {
   "cell_type": "code",
   "execution_count": 12,
   "id": "5f2ff0c4",
   "metadata": {},
   "outputs": [
    {
     "name": "stdout",
     "output_type": "stream",
     "text": [
      "Given array:\n",
      "[[10.5  22.5   3.8 ]\n",
      " [23.45 50.   78.7 ]\n",
      " [41.     nan   nan]]\n",
      "\n",
      "Remove all rows containing non-numeric elements\n",
      "[[10.5  22.5   3.8 ]\n",
      " [23.45 50.   78.7 ]]\n"
     ]
    }
   ],
   "source": [
    "#2\n",
    "n_arr= np.array([[10.5, 22.5, 3.8],[23.45, 50, 78.7],[41, np.nan, np.nan]])\n",
    "\n",
    "print(\"Given array:\")\n",
    "print(n_arr)\n",
    "\n",
    "print(\"\\nRemove all rows containing non-numeric elements\")\n",
    "print(n_arr[~np.isnan(n_arr).any(axis=1)])\n"
   ]
  },
  {
   "cell_type": "code",
   "execution_count": 14,
   "id": "3ba64f08",
   "metadata": {},
   "outputs": [
    {
     "name": "stdout",
     "output_type": "stream",
     "text": [
      "4\n"
     ]
    }
   ],
   "source": [
    "#3\n",
    "arr = np.array([[2, 8, 2, 9],[9, 2, 9, 4],[4, 2, 9, 7],[2, 9, 4, 3]])\n",
    "output = repr(arr).count(\"2, 9\")\n",
    "print(output)"
   ]
  },
  {
   "cell_type": "code",
   "execution_count": 15,
   "id": "c43e32c4",
   "metadata": {},
   "outputs": [
    {
     "name": "stdout",
     "output_type": "stream",
     "text": [
      "Original array:\n",
      "[1 2 3 4 5 1 2 1 1 1]\n",
      "Most frequent value in the above array:\n",
      "1\n"
     ]
    }
   ],
   "source": [
    "#4\n",
    "arr = np.array([1,2,3,4,5,1,2,1,1,1])\n",
    "print(\"Original array:\")\n",
    "print(arr)\n",
    "\n",
    "print(\"Most frequent value in the above array:\")\n",
    "print(np.bincount(arr).argmax())"
   ]
  },
  {
   "cell_type": "code",
   "execution_count": 18,
   "id": "c49d0782",
   "metadata": {},
   "outputs": [
    {
     "name": "stdout",
     "output_type": "stream",
     "text": [
      "1st array :  [3 2 1]\n",
      "2nd array :  [5 9 2]\n",
      "added array :  [ 8 11  3]\n"
     ]
    }
   ],
   "source": [
    "#5\n",
    "arr1 = np.array([3, 2, 1])\n",
    "arr2 = np.array([5, 9, 2])\n",
    "   \n",
    "print (\"1st array : \", arr1)  \n",
    "print (\"2nd array : \", arr2)  \n",
    "   \n",
    "out_arr = np.add(arr1, arr2)  \n",
    "print (\"added array : \", out_arr)  "
   ]
  },
  {
   "cell_type": "code",
   "execution_count": 19,
   "id": "1a61f5b3",
   "metadata": {},
   "outputs": [
    {
     "name": "stdout",
     "output_type": "stream",
     "text": [
      "Original Array:\n",
      "[ 1  2  3  4  5  6  7  8  9 10]\n",
      "\n",
      "Indices where the condition is satisfied:\n",
      "(array([5, 6, 7, 8, 9], dtype=int64),)\n"
     ]
    }
   ],
   "source": [
    "#6\n",
    "arr = np.array([1, 2, 3, 4, 5, 6, 7, 8, 9, 10])\n",
    "condition = arr > 5\n",
    "indices = np.where(condition)\n",
    "\n",
    "print(\"Original Array:\")\n",
    "print(arr)\n",
    "\n",
    "print(\"\\nIndices where the condition is satisfied:\")\n",
    "print(indices)"
   ]
  },
  {
   "cell_type": "code",
   "execution_count": 20,
   "id": "8167257c",
   "metadata": {},
   "outputs": [
    {
     "name": "stdout",
     "output_type": "stream",
     "text": [
      "Original Matrix:\n",
      "[[1 2]\n",
      " [3 4]]\n",
      "\n",
      "Scalar:\n",
      "2\n",
      "\n",
      "Result Matrix (Matrix multiplied by Scalar):\n",
      "[[2 4]\n",
      " [6 8]]\n"
     ]
    }
   ],
   "source": [
    "#7\n",
    "matrix = np.array([[1, 2],[3, 4]])\n",
    "scalar = 2\n",
    "result_matrix = matrix * scalar\n",
    "\n",
    "print(\"Original Matrix:\")\n",
    "print(matrix)\n",
    "\n",
    "print(\"\\nScalar:\")\n",
    "print(scalar)\n",
    "\n",
    "print(\"\\nResult Matrix (Matrix multiplied by Scalar):\")\n",
    "print(result_matrix)"
   ]
  },
  {
   "cell_type": "code",
   "execution_count": 25,
   "id": "8b9ac2f3",
   "metadata": {},
   "outputs": [
    {
     "name": "stdout",
     "output_type": "stream",
     "text": [
      "Original Array:\n",
      "[[2.5  3.8  1.5 ]\n",
      " [4.7  2.9  1.56]]\n",
      "\n",
      "Reshaped Array :\n",
      "[[2.5  3.8 ]\n",
      " [1.5  4.7 ]\n",
      " [2.9  1.56]]\n"
     ]
    }
   ],
   "source": [
    "#8\n",
    "a = np.array([[2.5, 3.8, 1.5],\n",
    "              [4.7, 2.9, 1.56]])\n",
    "\n",
    "reshaped_array = a.reshape(3,2)\n",
    "print(\"Original Array:\")\n",
    "print(a)\n",
    "\n",
    "print(\"\\nReshaped Array :\")\n",
    "print(reshaped_array)"
   ]
  },
  {
   "cell_type": "code",
   "execution_count": 26,
   "id": "33b2c21c",
   "metadata": {},
   "outputs": [
    {
     "name": "stdout",
     "output_type": "stream",
     "text": [
      "Binary Array:\n",
      "[[1 0 0]\n",
      " [1 1 1]\n",
      " [0 0 0]]\n",
      "\n",
      "Boolean Array:\n",
      "[[ True False False]\n",
      " [ True  True  True]\n",
      " [False False False]]\n"
     ]
    }
   ],
   "source": [
    "#9\n",
    "a = np.array([[1, 0, 0],\n",
    "              [1, 1, 1],\n",
    "              [0, 0, 0]])\n",
    "\n",
    "boolean_array = a == 1\n",
    "print(\"Binary Array:\")\n",
    "print(a)\n",
    "\n",
    "print(\"\\nBoolean Array:\")\n",
    "print(boolean_array)"
   ]
  },
  {
   "cell_type": "code",
   "execution_count": 28,
   "id": "78caa205",
   "metadata": {},
   "outputs": [
    {
     "name": "stdout",
     "output_type": "stream",
     "text": [
      "Array 1:\n",
      "[[1 2 3]\n",
      " [4 5 6]]\n",
      "\n",
      "Array 2:\n",
      "[[ 7  8]\n",
      " [ 9 10]]\n",
      "\n",
      "Horizontal Stacking Result:\n",
      "[[ 1  2  3  7  8]\n",
      " [ 4  5  6  9 10]]\n"
     ]
    }
   ],
   "source": [
    "#10\n",
    "arr1 = np.array([[1, 2, 3],[4, 5, 6]])\n",
    "arr2 = np.array([[7, 8],[9, 10]])\n",
    "\n",
    "horizontal_stack = np.hstack((array1, array2))\n",
    "print(\"Array 1:\")\n",
    "print(arr1)\n",
    "\n",
    "print(\"\\nArray 2:\")\n",
    "print(arr2)\n",
    "\n",
    "print(\"\\nHorizontal Stacking Result:\")\n",
    "print(horizontal_stack)"
   ]
  },
  {
   "cell_type": "code",
   "execution_count": 35,
   "id": "cec3a931",
   "metadata": {},
   "outputs": [
    {
     "name": "stdout",
     "output_type": "stream",
     "text": [
      "Random integers between 0 and 9: \n",
      "2\n",
      "8\n",
      "8\n",
      "0\n",
      "4\n",
      "1\n",
      "4\n",
      "4\n",
      "8\n"
     ]
    }
   ],
   "source": [
    "import random\n",
    "print(\"Random integers between 0 and 9: \")\n",
    "for i in range(1, 10):\n",
    "    y = random.randrange(9)\n",
    "    print(y)"
   ]
  },
  {
   "cell_type": "code",
   "execution_count": 39,
   "id": "3f8fbc12",
   "metadata": {},
   "outputs": [
    {
     "name": "stdout",
     "output_type": "stream",
     "text": [
      "Matrix A:\n",
      "[[1 2 3]\n",
      " [4 5 6]\n",
      " [7 8 9]]\n",
      "\n",
      "Matrix B:\n",
      "[[ 2  3  4]\n",
      " [ 5  6  7]\n",
      " [ 8  9 10]]\n",
      "\n",
      "Matrix Multiplication Result:\n",
      "[[ 2  6 12]\n",
      " [20 30 42]\n",
      " [56 72 90]]\n"
     ]
    }
   ],
   "source": [
    "a = np.array([[1, 2, 3],\n",
    "              [4, 5, 6],\n",
    "              [7, 8, 9]])\n",
    "\n",
    "b = np.array([[2, 3, 4],\n",
    "              [5, 6, 7],\n",
    "              [8, 9, 10]])\n",
    "\n",
    "result = np.multiply(a, b)\n",
    "\n",
    "print(\"Matrix A:\")\n",
    "print(a)\n",
    "\n",
    "print(\"\\nMatrix B:\")\n",
    "print(b)\n",
    "\n",
    "print(\"\\nMatrix Multiplication Result:\")\n",
    "print(result)"
   ]
  },
  {
   "cell_type": "code",
   "execution_count": null,
   "id": "0e375e29",
   "metadata": {},
   "outputs": [],
   "source": []
  }
 ],
 "metadata": {
  "kernelspec": {
   "display_name": "Python 3 (ipykernel)",
   "language": "python",
   "name": "python3"
  },
  "language_info": {
   "codemirror_mode": {
    "name": "ipython",
    "version": 3
   },
   "file_extension": ".py",
   "mimetype": "text/x-python",
   "name": "python",
   "nbconvert_exporter": "python",
   "pygments_lexer": "ipython3",
   "version": "3.10.9"
  }
 },
 "nbformat": 4,
 "nbformat_minor": 5
}
